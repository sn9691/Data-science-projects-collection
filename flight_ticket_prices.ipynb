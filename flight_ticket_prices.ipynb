{
 "cells": [
  {
   "cell_type": "code",
   "execution_count": 1,
   "metadata": {},
   "outputs": [],
   "source": [
    "import numpy as np\n",
    "import pandas as pd\n",
    "import matplotlib.pyplot as plt\n",
    "import seaborn as sns\n",
    "import warnings"
   ]
  },
  {
   "cell_type": "code",
   "execution_count": 2,
   "metadata": {},
   "outputs": [],
   "source": [
    "warnings.simplefilter('ignore')\n",
    "plt.rcParams['figure.figsize'] = (10,7)"
   ]
  },
  {
   "cell_type": "code",
   "execution_count": 3,
   "metadata": {},
   "outputs": [],
   "source": [
    "train = pd.read_excel('train.xlsx')\n",
    "test = pd.read_excel('test.xlsx')"
   ]
  },
  {
   "cell_type": "code",
   "execution_count": 4,
   "metadata": {},
   "outputs": [],
   "source": [
    "df = pd.concat([train, test], ignore_index=True)"
   ]
  },
  {
   "cell_type": "code",
   "execution_count": 5,
   "metadata": {},
   "outputs": [
    {
     "name": "stdout",
     "output_type": "stream",
     "text": [
      "<class 'pandas.core.frame.DataFrame'>\n",
      "RangeIndex: 13354 entries, 0 to 13353\n",
      "Data columns (total 11 columns):\n",
      "Additional_Info    13354 non-null object\n",
      "Airline            13354 non-null object\n",
      "Arrival_Time       13354 non-null object\n",
      "Date_of_Journey    13354 non-null object\n",
      "Dep_Time           13354 non-null object\n",
      "Destination        13354 non-null object\n",
      "Duration           13354 non-null object\n",
      "Price              10683 non-null float64\n",
      "Route              13353 non-null object\n",
      "Source             13354 non-null object\n",
      "Total_Stops        13353 non-null object\n",
      "dtypes: float64(1), object(10)\n",
      "memory usage: 1.1+ MB\n"
     ]
    }
   ],
   "source": [
    "df.info()"
   ]
  },
  {
   "cell_type": "code",
   "execution_count": 6,
   "metadata": {},
   "outputs": [
    {
     "data": {
      "text/plain": [
       "Additional_Info       0\n",
       "Airline               0\n",
       "Arrival_Time          0\n",
       "Date_of_Journey       0\n",
       "Dep_Time              0\n",
       "Destination           0\n",
       "Duration              0\n",
       "Price              2671\n",
       "Route                 1\n",
       "Source                0\n",
       "Total_Stops           1\n",
       "dtype: int64"
      ]
     },
     "execution_count": 6,
     "metadata": {},
     "output_type": "execute_result"
    }
   ],
   "source": [
    "df.isna().sum()"
   ]
  },
  {
   "cell_type": "code",
   "execution_count": 7,
   "metadata": {},
   "outputs": [
    {
     "data": {
      "text/html": [
       "<div>\n",
       "<style scoped>\n",
       "    .dataframe tbody tr th:only-of-type {\n",
       "        vertical-align: middle;\n",
       "    }\n",
       "\n",
       "    .dataframe tbody tr th {\n",
       "        vertical-align: top;\n",
       "    }\n",
       "\n",
       "    .dataframe thead th {\n",
       "        text-align: right;\n",
       "    }\n",
       "</style>\n",
       "<table border=\"1\" class=\"dataframe\">\n",
       "  <thead>\n",
       "    <tr style=\"text-align: right;\">\n",
       "      <th></th>\n",
       "      <th>Additional_Info</th>\n",
       "      <th>Airline</th>\n",
       "      <th>Arrival_Time</th>\n",
       "      <th>Date_of_Journey</th>\n",
       "      <th>Dep_Time</th>\n",
       "      <th>Destination</th>\n",
       "      <th>Duration</th>\n",
       "      <th>Price</th>\n",
       "      <th>Route</th>\n",
       "      <th>Source</th>\n",
       "      <th>Total_Stops</th>\n",
       "    </tr>\n",
       "  </thead>\n",
       "  <tbody>\n",
       "    <tr>\n",
       "      <th>0</th>\n",
       "      <td>No info</td>\n",
       "      <td>IndiGo</td>\n",
       "      <td>01:10 22 Mar</td>\n",
       "      <td>24/03/2019</td>\n",
       "      <td>22:20</td>\n",
       "      <td>New Delhi</td>\n",
       "      <td>2h 50m</td>\n",
       "      <td>3897.0</td>\n",
       "      <td>BLR → DEL</td>\n",
       "      <td>Banglore</td>\n",
       "      <td>non-stop</td>\n",
       "    </tr>\n",
       "    <tr>\n",
       "      <th>1</th>\n",
       "      <td>No info</td>\n",
       "      <td>Air India</td>\n",
       "      <td>13:15</td>\n",
       "      <td>1/05/2019</td>\n",
       "      <td>05:50</td>\n",
       "      <td>Banglore</td>\n",
       "      <td>7h 25m</td>\n",
       "      <td>7662.0</td>\n",
       "      <td>CCU → IXR → BBI → BLR</td>\n",
       "      <td>Kolkata</td>\n",
       "      <td>2 stops</td>\n",
       "    </tr>\n",
       "    <tr>\n",
       "      <th>2</th>\n",
       "      <td>No info</td>\n",
       "      <td>Jet Airways</td>\n",
       "      <td>04:25 10 Jun</td>\n",
       "      <td>9/06/2019</td>\n",
       "      <td>09:25</td>\n",
       "      <td>Cochin</td>\n",
       "      <td>19h</td>\n",
       "      <td>13882.0</td>\n",
       "      <td>DEL → LKO → BOM → COK</td>\n",
       "      <td>Delhi</td>\n",
       "      <td>2 stops</td>\n",
       "    </tr>\n",
       "    <tr>\n",
       "      <th>3</th>\n",
       "      <td>No info</td>\n",
       "      <td>IndiGo</td>\n",
       "      <td>23:30</td>\n",
       "      <td>12/05/2019</td>\n",
       "      <td>18:05</td>\n",
       "      <td>Banglore</td>\n",
       "      <td>5h 25m</td>\n",
       "      <td>6218.0</td>\n",
       "      <td>CCU → NAG → BLR</td>\n",
       "      <td>Kolkata</td>\n",
       "      <td>1 stop</td>\n",
       "    </tr>\n",
       "    <tr>\n",
       "      <th>4</th>\n",
       "      <td>No info</td>\n",
       "      <td>IndiGo</td>\n",
       "      <td>21:35</td>\n",
       "      <td>01/03/2019</td>\n",
       "      <td>16:50</td>\n",
       "      <td>New Delhi</td>\n",
       "      <td>4h 45m</td>\n",
       "      <td>13302.0</td>\n",
       "      <td>BLR → NAG → DEL</td>\n",
       "      <td>Banglore</td>\n",
       "      <td>1 stop</td>\n",
       "    </tr>\n",
       "    <tr>\n",
       "      <th>5</th>\n",
       "      <td>No info</td>\n",
       "      <td>SpiceJet</td>\n",
       "      <td>11:25</td>\n",
       "      <td>24/06/2019</td>\n",
       "      <td>09:00</td>\n",
       "      <td>Banglore</td>\n",
       "      <td>2h 25m</td>\n",
       "      <td>3873.0</td>\n",
       "      <td>CCU → BLR</td>\n",
       "      <td>Kolkata</td>\n",
       "      <td>non-stop</td>\n",
       "    </tr>\n",
       "    <tr>\n",
       "      <th>6</th>\n",
       "      <td>In-flight meal not included</td>\n",
       "      <td>Jet Airways</td>\n",
       "      <td>10:25 13 Mar</td>\n",
       "      <td>12/03/2019</td>\n",
       "      <td>18:55</td>\n",
       "      <td>New Delhi</td>\n",
       "      <td>15h 30m</td>\n",
       "      <td>11087.0</td>\n",
       "      <td>BLR → BOM → DEL</td>\n",
       "      <td>Banglore</td>\n",
       "      <td>1 stop</td>\n",
       "    </tr>\n",
       "    <tr>\n",
       "      <th>7</th>\n",
       "      <td>No info</td>\n",
       "      <td>Jet Airways</td>\n",
       "      <td>05:05 02 Mar</td>\n",
       "      <td>01/03/2019</td>\n",
       "      <td>08:00</td>\n",
       "      <td>New Delhi</td>\n",
       "      <td>21h 5m</td>\n",
       "      <td>22270.0</td>\n",
       "      <td>BLR → BOM → DEL</td>\n",
       "      <td>Banglore</td>\n",
       "      <td>1 stop</td>\n",
       "    </tr>\n",
       "    <tr>\n",
       "      <th>8</th>\n",
       "      <td>In-flight meal not included</td>\n",
       "      <td>Jet Airways</td>\n",
       "      <td>10:25 13 Mar</td>\n",
       "      <td>12/03/2019</td>\n",
       "      <td>08:55</td>\n",
       "      <td>New Delhi</td>\n",
       "      <td>25h 30m</td>\n",
       "      <td>11087.0</td>\n",
       "      <td>BLR → BOM → DEL</td>\n",
       "      <td>Banglore</td>\n",
       "      <td>1 stop</td>\n",
       "    </tr>\n",
       "    <tr>\n",
       "      <th>9</th>\n",
       "      <td>No info</td>\n",
       "      <td>Multiple carriers</td>\n",
       "      <td>19:15</td>\n",
       "      <td>27/05/2019</td>\n",
       "      <td>11:25</td>\n",
       "      <td>Cochin</td>\n",
       "      <td>7h 50m</td>\n",
       "      <td>8625.0</td>\n",
       "      <td>DEL → BOM → COK</td>\n",
       "      <td>Delhi</td>\n",
       "      <td>1 stop</td>\n",
       "    </tr>\n",
       "  </tbody>\n",
       "</table>\n",
       "</div>"
      ],
      "text/plain": [
       "               Additional_Info            Airline  Arrival_Time  \\\n",
       "0                      No info             IndiGo  01:10 22 Mar   \n",
       "1                      No info          Air India         13:15   \n",
       "2                      No info        Jet Airways  04:25 10 Jun   \n",
       "3                      No info             IndiGo         23:30   \n",
       "4                      No info             IndiGo         21:35   \n",
       "5                      No info           SpiceJet         11:25   \n",
       "6  In-flight meal not included        Jet Airways  10:25 13 Mar   \n",
       "7                      No info        Jet Airways  05:05 02 Mar   \n",
       "8  In-flight meal not included        Jet Airways  10:25 13 Mar   \n",
       "9                      No info  Multiple carriers         19:15   \n",
       "\n",
       "  Date_of_Journey Dep_Time Destination Duration    Price  \\\n",
       "0      24/03/2019    22:20   New Delhi   2h 50m   3897.0   \n",
       "1       1/05/2019    05:50    Banglore   7h 25m   7662.0   \n",
       "2       9/06/2019    09:25      Cochin      19h  13882.0   \n",
       "3      12/05/2019    18:05    Banglore   5h 25m   6218.0   \n",
       "4      01/03/2019    16:50   New Delhi   4h 45m  13302.0   \n",
       "5      24/06/2019    09:00    Banglore   2h 25m   3873.0   \n",
       "6      12/03/2019    18:55   New Delhi  15h 30m  11087.0   \n",
       "7      01/03/2019    08:00   New Delhi   21h 5m  22270.0   \n",
       "8      12/03/2019    08:55   New Delhi  25h 30m  11087.0   \n",
       "9      27/05/2019    11:25      Cochin   7h 50m   8625.0   \n",
       "\n",
       "                   Route    Source Total_Stops  \n",
       "0              BLR → DEL  Banglore    non-stop  \n",
       "1  CCU → IXR → BBI → BLR   Kolkata     2 stops  \n",
       "2  DEL → LKO → BOM → COK     Delhi     2 stops  \n",
       "3        CCU → NAG → BLR   Kolkata      1 stop  \n",
       "4        BLR → NAG → DEL  Banglore      1 stop  \n",
       "5              CCU → BLR   Kolkata    non-stop  \n",
       "6        BLR → BOM → DEL  Banglore      1 stop  \n",
       "7        BLR → BOM → DEL  Banglore      1 stop  \n",
       "8        BLR → BOM → DEL  Banglore      1 stop  \n",
       "9        DEL → BOM → COK     Delhi      1 stop  "
      ]
     },
     "execution_count": 7,
     "metadata": {},
     "output_type": "execute_result"
    }
   ],
   "source": [
    "df.head(10)"
   ]
  },
  {
   "cell_type": "markdown",
   "metadata": {},
   "source": [
    "Data Analysis and Feature Engineering"
   ]
  },
  {
   "cell_type": "code",
   "execution_count": 8,
   "metadata": {},
   "outputs": [],
   "source": [
    "df['Total_Stops'].fillna(df['Total_Stops'].mode(), inplace=True)"
   ]
  },
  {
   "cell_type": "code",
   "execution_count": 9,
   "metadata": {},
   "outputs": [
    {
     "data": {
      "text/plain": [
       "132"
      ]
     },
     "execution_count": 9,
     "metadata": {},
     "output_type": "execute_result"
    }
   ],
   "source": [
    "df['Route'].nunique()"
   ]
  },
  {
   "cell_type": "code",
   "execution_count": 10,
   "metadata": {},
   "outputs": [],
   "source": [
    "# column too large to deal with\n",
    "df.drop('Route', axis=1, inplace=True)"
   ]
  },
  {
   "cell_type": "code",
   "execution_count": 11,
   "metadata": {},
   "outputs": [
    {
     "data": {
      "text/plain": [
       "No info                         10493\n",
       "In-flight meal not included      2426\n",
       "No check-in baggage included      396\n",
       "1 Long layover                     20\n",
       "Change airports                     8\n",
       "Business class                      5\n",
       "No Info                             3\n",
       "Red-eye flight                      1\n",
       "2 Long layover                      1\n",
       "1 Short layover                     1\n",
       "Name: Additional_Info, dtype: int64"
      ]
     },
     "execution_count": 11,
     "metadata": {},
     "output_type": "execute_result"
    }
   ],
   "source": [
    "df['Additional_Info'].value_counts()"
   ]
  },
  {
   "cell_type": "code",
   "execution_count": 12,
   "metadata": {},
   "outputs": [],
   "source": [
    "df['Additional_Info'].replace(['No Info'], ['No info'], inplace=True)"
   ]
  },
  {
   "cell_type": "code",
   "execution_count": 13,
   "metadata": {},
   "outputs": [
    {
     "data": {
      "text/plain": [
       "<matplotlib.axes._subplots.AxesSubplot at 0x1e4e7d3d710>"
      ]
     },
     "execution_count": 13,
     "metadata": {},
     "output_type": "execute_result"
    },
    {
     "data": {
      "image/png": "[encoded data removed]",
      "text/plain": [
       "<Figure size 720x504 with 1 Axes>"
      ]
     },
     "metadata": {
      "needs_background": "light"
     },
     "output_type": "display_data"
    }
   ],
   "source": [
    "df['Additional_Info'].value_counts().plot.bar()"
   ]
  },
  {
   "cell_type": "code",
   "execution_count": 14,
   "metadata": {},
   "outputs": [],
   "source": [
    "# column not of much use\n",
    "df.drop('Additional_Info', axis=1, inplace=True)"
   ]
  },
  {
   "cell_type": "code",
   "execution_count": 15,
   "metadata": {},
   "outputs": [
    {
     "data": {
      "text/plain": [
       "Cochin       5682\n",
       "Banglore     3581\n",
       "Delhi        1582\n",
       "New Delhi    1170\n",
       "Hyderabad     883\n",
       "Kolkata       456\n",
       "Name: Destination, dtype: int64"
      ]
     },
     "execution_count": 15,
     "metadata": {},
     "output_type": "execute_result"
    }
   ],
   "source": [
    "df['Destination'].value_counts()"
   ]
  },
  {
   "cell_type": "code",
   "execution_count": 16,
   "metadata": {},
   "outputs": [
    {
     "data": {
      "text/plain": [
       "Delhi       5682\n",
       "Kolkata     3581\n",
       "Banglore    2752\n",
       "Mumbai       883\n",
       "Chennai      456\n",
       "Name: Source, dtype: int64"
      ]
     },
     "execution_count": 16,
     "metadata": {},
     "output_type": "execute_result"
    }
   ],
   "source": [
    "df['Source'].value_counts()"
   ]
  },
  {
   "cell_type": "code",
   "execution_count": 17,
   "metadata": {},
   "outputs": [],
   "source": [
    "# new delhi and delhi are two columns, I think both should be the same because there is just one airport"
   ]
  },
  {
   "cell_type": "code",
   "execution_count": 18,
   "metadata": {},
   "outputs": [],
   "source": [
    "df['Destination'].replace('New Delhi', 'Delhi', inplace=True)"
   ]
  },
  {
   "cell_type": "code",
   "execution_count": 19,
   "metadata": {},
   "outputs": [],
   "source": [
    "# I think source:destination pairs could influence price tickets\n",
    "# let's check this"
   ]
  },
  {
   "cell_type": "code",
   "execution_count": 20,
   "metadata": {},
   "outputs": [],
   "source": [
    "df['Source_and_Dest'] = df['Source'] + df['Destination']"
   ]
  },
  {
   "cell_type": "code",
   "execution_count": 21,
   "metadata": {},
   "outputs": [
    {
     "data": {
      "image/png": "[encoded data removed]",
      "text/plain": [
       "<Figure size 1080x576 with 2 Axes>"
      ]
     },
     "metadata": {
      "needs_background": "light"
     },
     "output_type": "display_data"
    }
   ],
   "source": [
    "fig, ax = plt.subplots(1,2, figsize=(15,8))\n",
    "df['Source_and_Dest'].value_counts().plot.bar(ax=ax[0])\n",
    "plt.xticks(rotation='vertical')\n",
    "plt.bar(df['Source_and_Dest'], df['Price'])\n",
    "plt.show()"
   ]
  },
  {
   "cell_type": "code",
   "execution_count": 22,
   "metadata": {},
   "outputs": [],
   "source": [
    "df['Date_of_Journey'] = pd.to_datetime(df['Date_of_Journey'])"
   ]
  },
  {
   "cell_type": "code",
   "execution_count": 23,
   "metadata": {},
   "outputs": [],
   "source": [
    "df['Arrival_Time'] = [x.split()[0] for x in df['Arrival_Time']]"
   ]
  },
  {
   "cell_type": "code",
   "execution_count": 24,
   "metadata": {},
   "outputs": [
    {
     "data": {
      "text/html": [
       "<div>\n",
       "<style scoped>\n",
       "    .dataframe tbody tr th:only-of-type {\n",
       "        vertical-align: middle;\n",
       "    }\n",
       "\n",
       "    .dataframe tbody tr th {\n",
       "        vertical-align: top;\n",
       "    }\n",
       "\n",
       "    .dataframe thead th {\n",
       "        text-align: right;\n",
       "    }\n",
       "</style>\n",
       "<table border=\"1\" class=\"dataframe\">\n",
       "  <thead>\n",
       "    <tr style=\"text-align: right;\">\n",
       "      <th></th>\n",
       "      <th>Airline</th>\n",
       "      <th>Arrival_Time</th>\n",
       "      <th>Date_of_Journey</th>\n",
       "      <th>Dep_Time</th>\n",
       "      <th>Destination</th>\n",
       "      <th>Duration</th>\n",
       "      <th>Price</th>\n",
       "      <th>Source</th>\n",
       "      <th>Total_Stops</th>\n",
       "      <th>Source_and_Dest</th>\n",
       "    </tr>\n",
       "  </thead>\n",
       "  <tbody>\n",
       "    <tr>\n",
       "      <th>0</th>\n",
       "      <td>IndiGo</td>\n",
       "      <td>01:10</td>\n",
       "      <td>2019-03-24</td>\n",
       "      <td>22:20</td>\n",
       "      <td>Delhi</td>\n",
       "      <td>2h 50m</td>\n",
       "      <td>3897.0</td>\n",
       "      <td>Banglore</td>\n",
       "      <td>non-stop</td>\n",
       "      <td>BangloreDelhi</td>\n",
       "    </tr>\n",
       "    <tr>\n",
       "      <th>1</th>\n",
       "      <td>Air India</td>\n",
       "      <td>13:15</td>\n",
       "      <td>2019-01-05</td>\n",
       "      <td>05:50</td>\n",
       "      <td>Banglore</td>\n",
       "      <td>7h 25m</td>\n",
       "      <td>7662.0</td>\n",
       "      <td>Kolkata</td>\n",
       "      <td>2 stops</td>\n",
       "      <td>KolkataBanglore</td>\n",
       "    </tr>\n",
       "    <tr>\n",
       "      <th>2</th>\n",
       "      <td>Jet Airways</td>\n",
       "      <td>04:25</td>\n",
       "      <td>2019-09-06</td>\n",
       "      <td>09:25</td>\n",
       "      <td>Cochin</td>\n",
       "      <td>19h</td>\n",
       "      <td>13882.0</td>\n",
       "      <td>Delhi</td>\n",
       "      <td>2 stops</td>\n",
       "      <td>DelhiCochin</td>\n",
       "    </tr>\n",
       "    <tr>\n",
       "      <th>3</th>\n",
       "      <td>IndiGo</td>\n",
       "      <td>23:30</td>\n",
       "      <td>2019-12-05</td>\n",
       "      <td>18:05</td>\n",
       "      <td>Banglore</td>\n",
       "      <td>5h 25m</td>\n",
       "      <td>6218.0</td>\n",
       "      <td>Kolkata</td>\n",
       "      <td>1 stop</td>\n",
       "      <td>KolkataBanglore</td>\n",
       "    </tr>\n",
       "    <tr>\n",
       "      <th>4</th>\n",
       "      <td>IndiGo</td>\n",
       "      <td>21:35</td>\n",
       "      <td>2019-01-03</td>\n",
       "      <td>16:50</td>\n",
       "      <td>Delhi</td>\n",
       "      <td>4h 45m</td>\n",
       "      <td>13302.0</td>\n",
       "      <td>Banglore</td>\n",
       "      <td>1 stop</td>\n",
       "      <td>BangloreDelhi</td>\n",
       "    </tr>\n",
       "  </tbody>\n",
       "</table>\n",
       "</div>"
      ],
      "text/plain": [
       "       Airline Arrival_Time Date_of_Journey Dep_Time Destination Duration  \\\n",
       "0       IndiGo        01:10      2019-03-24    22:20       Delhi   2h 50m   \n",
       "1    Air India        13:15      2019-01-05    05:50    Banglore   7h 25m   \n",
       "2  Jet Airways        04:25      2019-09-06    09:25      Cochin      19h   \n",
       "3       IndiGo        23:30      2019-12-05    18:05    Banglore   5h 25m   \n",
       "4       IndiGo        21:35      2019-01-03    16:50       Delhi   4h 45m   \n",
       "\n",
       "     Price    Source Total_Stops  Source_and_Dest  \n",
       "0   3897.0  Banglore    non-stop    BangloreDelhi  \n",
       "1   7662.0   Kolkata     2 stops  KolkataBanglore  \n",
       "2  13882.0     Delhi     2 stops      DelhiCochin  \n",
       "3   6218.0   Kolkata      1 stop  KolkataBanglore  \n",
       "4  13302.0  Banglore      1 stop    BangloreDelhi  "
      ]
     },
     "execution_count": 24,
     "metadata": {},
     "output_type": "execute_result"
    }
   ],
   "source": [
    "df.head()"
   ]
  },
  {
   "cell_type": "code",
   "execution_count": 25,
   "metadata": {},
   "outputs": [],
   "source": [
    "df['Month'] = [x.month for x in  df['Date_of_Journey']]"
   ]
  },
  {
   "cell_type": "code",
   "execution_count": 28,
   "metadata": {},
   "outputs": [],
   "source": [
    "df['Month'] = df['Month'].astype(str)"
   ]
  },
  {
   "cell_type": "code",
   "execution_count": 31,
   "metadata": {},
   "outputs": [
    {
     "data": {
      "image/png": "[encoded data removed]",
      "text/plain": [
       "<Figure size 720x360 with 1 Axes>"
      ]
     },
     "metadata": {
      "needs_background": "light"
     },
     "output_type": "display_data"
    }
   ],
   "source": [
    "plt.figure(figsize=(10,5))\n",
    "sns.barplot(df['Month'], df['Price'])\n",
    "plt.xticks(rotation='vertical')\n",
    "plt.show()"
   ]
  },
  {
   "cell_type": "code",
   "execution_count": 33,
   "metadata": {},
   "outputs": [],
   "source": [
    "# something happened in April, hence such a drastic decrease in prices\n",
    "# we'll create a column to recognise this\n",
    "df['April'] = df['Month'].apply(lambda x: 0 if x == 4 else 1)"
   ]
  },
  {
   "cell_type": "code",
   "execution_count": 34,
   "metadata": {},
   "outputs": [],
   "source": [
    "# let's process duration\n",
    "hours = [x[0].strip('h') for x in df['Duration']]\n",
    "mins = []\n",
    "for a in range(len(df)):\n",
    "    if len(df['Duration'][a].split()) > 1:\n",
    "        mins.append(df['Duration'][a].split()[1].strip('m'))\n",
    "    else:\n",
    "        mins.append('0')"
   ]
  },
  {
   "cell_type": "code",
   "execution_count": 35,
   "metadata": {},
   "outputs": [],
   "source": [
    "time = [x + ':' + y for x,y in zip(hours, mins)]"
   ]
  },
  {
   "cell_type": "code",
   "execution_count": 36,
   "metadata": {},
   "outputs": [],
   "source": [
    "hr_dur = []\n",
    "for x in time:\n",
    "    if int(x.split(':')[1]) < 30:\n",
    "        hr_dur.append(int(x.split(':')[0]))\n",
    "    elif int(x.split(':')[1]) == 30:\n",
    "        hr_dur.append(int(x.split(':')[0]) + 0.5)\n",
    "    else:\n",
    "        hr_dur.append(int(x.split(':')[0]) + 1)"
   ]
  },
  {
   "cell_type": "code",
   "execution_count": 37,
   "metadata": {},
   "outputs": [],
   "source": [
    "# duration in hour\n",
    "df['Duration'] = hr_dur"
   ]
  },
  {
   "cell_type": "code",
   "execution_count": 38,
   "metadata": {},
   "outputs": [],
   "source": [
    "df.drop(['Arrival_Time', 'Dep_Time'], axis=1, inplace=True)"
   ]
  },
  {
   "cell_type": "code",
   "execution_count": 39,
   "metadata": {},
   "outputs": [
    {
     "data": {
      "image/png": "[encoded data removed]",
      "text/plain": [
       "<Figure size 1080x576 with 2 Axes>"
      ]
     },
     "metadata": {
      "needs_background": "light"
     },
     "output_type": "display_data"
    }
   ],
   "source": [
    "# finally, let's check out how airlines relate to prices\n",
    "fig, ax = plt.subplots(1,2, figsize=(15,8))\n",
    "df['Airline'].value_counts().plot.bar(ax=ax[0])\n",
    "plt.xticks(rotation='vertical')\n",
    "plt.bar(df['Airline'], df['Price'])\n",
    "plt.show()"
   ]
  },
  {
   "cell_type": "code",
   "execution_count": 40,
   "metadata": {},
   "outputs": [
    {
     "data": {
      "text/html": [
       "<div>\n",
       "<style scoped>\n",
       "    .dataframe tbody tr th:only-of-type {\n",
       "        vertical-align: middle;\n",
       "    }\n",
       "\n",
       "    .dataframe tbody tr th {\n",
       "        vertical-align: top;\n",
       "    }\n",
       "\n",
       "    .dataframe thead th {\n",
       "        text-align: right;\n",
       "    }\n",
       "</style>\n",
       "<table border=\"1\" class=\"dataframe\">\n",
       "  <thead>\n",
       "    <tr style=\"text-align: right;\">\n",
       "      <th></th>\n",
       "      <th>Airline</th>\n",
       "      <th>Date_of_Journey</th>\n",
       "      <th>Destination</th>\n",
       "      <th>Duration</th>\n",
       "      <th>Price</th>\n",
       "      <th>Source</th>\n",
       "      <th>Total_Stops</th>\n",
       "      <th>Source_and_Dest</th>\n",
       "      <th>Month</th>\n",
       "      <th>April</th>\n",
       "    </tr>\n",
       "  </thead>\n",
       "  <tbody>\n",
       "    <tr>\n",
       "      <th>0</th>\n",
       "      <td>IndiGo</td>\n",
       "      <td>2019-03-24</td>\n",
       "      <td>Delhi</td>\n",
       "      <td>3.0</td>\n",
       "      <td>3897.0</td>\n",
       "      <td>Banglore</td>\n",
       "      <td>non-stop</td>\n",
       "      <td>BangloreDelhi</td>\n",
       "      <td>3</td>\n",
       "      <td>1</td>\n",
       "    </tr>\n",
       "    <tr>\n",
       "      <th>1</th>\n",
       "      <td>Air India</td>\n",
       "      <td>2019-01-05</td>\n",
       "      <td>Banglore</td>\n",
       "      <td>7.0</td>\n",
       "      <td>7662.0</td>\n",
       "      <td>Kolkata</td>\n",
       "      <td>2 stops</td>\n",
       "      <td>KolkataBanglore</td>\n",
       "      <td>1</td>\n",
       "      <td>1</td>\n",
       "    </tr>\n",
       "    <tr>\n",
       "      <th>2</th>\n",
       "      <td>Jet Airways</td>\n",
       "      <td>2019-09-06</td>\n",
       "      <td>Cochin</td>\n",
       "      <td>1.0</td>\n",
       "      <td>13882.0</td>\n",
       "      <td>Delhi</td>\n",
       "      <td>2 stops</td>\n",
       "      <td>DelhiCochin</td>\n",
       "      <td>9</td>\n",
       "      <td>1</td>\n",
       "    </tr>\n",
       "    <tr>\n",
       "      <th>3</th>\n",
       "      <td>IndiGo</td>\n",
       "      <td>2019-12-05</td>\n",
       "      <td>Banglore</td>\n",
       "      <td>5.0</td>\n",
       "      <td>6218.0</td>\n",
       "      <td>Kolkata</td>\n",
       "      <td>1 stop</td>\n",
       "      <td>KolkataBanglore</td>\n",
       "      <td>12</td>\n",
       "      <td>1</td>\n",
       "    </tr>\n",
       "    <tr>\n",
       "      <th>4</th>\n",
       "      <td>IndiGo</td>\n",
       "      <td>2019-01-03</td>\n",
       "      <td>Delhi</td>\n",
       "      <td>5.0</td>\n",
       "      <td>13302.0</td>\n",
       "      <td>Banglore</td>\n",
       "      <td>1 stop</td>\n",
       "      <td>BangloreDelhi</td>\n",
       "      <td>1</td>\n",
       "      <td>1</td>\n",
       "    </tr>\n",
       "  </tbody>\n",
       "</table>\n",
       "</div>"
      ],
      "text/plain": [
       "       Airline Date_of_Journey Destination  Duration    Price    Source  \\\n",
       "0       IndiGo      2019-03-24       Delhi       3.0   3897.0  Banglore   \n",
       "1    Air India      2019-01-05    Banglore       7.0   7662.0   Kolkata   \n",
       "2  Jet Airways      2019-09-06      Cochin       1.0  13882.0     Delhi   \n",
       "3       IndiGo      2019-12-05    Banglore       5.0   6218.0   Kolkata   \n",
       "4       IndiGo      2019-01-03       Delhi       5.0  13302.0  Banglore   \n",
       "\n",
       "  Total_Stops  Source_and_Dest Month  April  \n",
       "0    non-stop    BangloreDelhi     3      1  \n",
       "1     2 stops  KolkataBanglore     1      1  \n",
       "2     2 stops      DelhiCochin     9      1  \n",
       "3      1 stop  KolkataBanglore    12      1  \n",
       "4      1 stop    BangloreDelhi     1      1  "
      ]
     },
     "execution_count": 40,
     "metadata": {},
     "output_type": "execute_result"
    }
   ],
   "source": [
    "df.head()"
   ]
  },
  {
   "cell_type": "code",
   "execution_count": 41,
   "metadata": {},
   "outputs": [
    {
     "name": "stdout",
     "output_type": "stream",
     "text": [
      "<class 'pandas.core.frame.DataFrame'>\n",
      "RangeIndex: 13354 entries, 0 to 13353\n",
      "Data columns (total 10 columns):\n",
      "Airline            13354 non-null object\n",
      "Date_of_Journey    13354 non-null datetime64[ns]\n",
      "Destination        13354 non-null object\n",
      "Duration           13354 non-null float64\n",
      "Price              10683 non-null float64\n",
      "Source             13354 non-null object\n",
      "Total_Stops        13353 non-null object\n",
      "Source_and_Dest    13354 non-null object\n",
      "Month              13354 non-null object\n",
      "April              13354 non-null int64\n",
      "dtypes: datetime64[ns](1), float64(2), int64(1), object(6)\n",
      "memory usage: 1.0+ MB\n"
     ]
    }
   ],
   "source": [
    "df.info()"
   ]
  },
  {
   "cell_type": "code",
   "execution_count": 42,
   "metadata": {},
   "outputs": [],
   "source": [
    "df = pd.get_dummies(df)"
   ]
  },
  {
   "cell_type": "code",
   "execution_count": 46,
   "metadata": {},
   "outputs": [],
   "source": [
    "# creating training, validation and testing set\n",
    "train = df.iloc[:8547]\n",
    "valid = df.iloc[8547:10683]\n",
    "test = df.iloc[10683:]"
   ]
  },
  {
   "cell_type": "code",
   "execution_count": 47,
   "metadata": {},
   "outputs": [],
   "source": [
    "X = train.drop(['Price', 'Date_of_Journey'], axis=1)\n",
    "y = train['Price']"
   ]
  },
  {
   "cell_type": "code",
   "execution_count": 50,
   "metadata": {},
   "outputs": [],
   "source": [
    "Xv = valid.drop(['Price', 'Date_of_Journey'], axis=1)\n",
    "yv = valid['Price']"
   ]
  },
  {
   "cell_type": "code",
   "execution_count": 49,
   "metadata": {},
   "outputs": [],
   "source": [
    "X_ = test.drop(['Price', 'Date_of_Journey'], axis=1)\n",
    "y_ = test['Price']"
   ]
  },
  {
   "cell_type": "code",
   "execution_count": 51,
   "metadata": {},
   "outputs": [],
   "source": [
    "from sklearn.ensemble import RandomForestRegressor\n",
    "from sklearn.model_selection import train_test_split, cross_val_score, KFold\n",
    "from sklearn.metrics import mean_squared_error"
   ]
  },
  {
   "cell_type": "code",
   "execution_count": 52,
   "metadata": {},
   "outputs": [],
   "source": [
    "rf = RandomForestRegressor(n_jobs=-1)"
   ]
  },
  {
   "cell_type": "code",
   "execution_count": 53,
   "metadata": {},
   "outputs": [],
   "source": [
    "X_train, X_test, y_train, y_test = train_test_split(X, y, test_size=0.33, random_state=100)"
   ]
  },
  {
   "cell_type": "code",
   "execution_count": 54,
   "metadata": {},
   "outputs": [
    {
     "data": {
      "text/plain": [
       "RandomForestRegressor(bootstrap=True, criterion='mse', max_depth=None,\n",
       "           max_features='auto', max_leaf_nodes=None,\n",
       "           min_impurity_decrease=0.0, min_impurity_split=None,\n",
       "           min_samples_leaf=1, min_samples_split=2,\n",
       "           min_weight_fraction_leaf=0.0, n_estimators=10, n_jobs=-1,\n",
       "           oob_score=False, random_state=None, verbose=0, warm_start=False)"
      ]
     },
     "execution_count": 54,
     "metadata": {},
     "output_type": "execute_result"
    }
   ],
   "source": [
    "rf.fit(X_train, y_train)"
   ]
  },
  {
   "cell_type": "code",
   "execution_count": 55,
   "metadata": {},
   "outputs": [
    {
     "data": {
      "text/plain": [
       "2592.045421193578"
      ]
     },
     "execution_count": 55,
     "metadata": {},
     "output_type": "execute_result"
    }
   ],
   "source": [
    "pred = np.round(rf.predict(X_test), 2)\n",
    "np.sqrt(mean_squared_error(y_test, pred))"
   ]
  },
  {
   "cell_type": "code",
   "execution_count": 88,
   "metadata": {},
   "outputs": [],
   "source": [
    "error = []\n",
    "for i in range(1,40):\n",
    "    rf = RandomForestRegressor(n_jobs=-1, n_estimators=i)\n",
    "    rf.fit(X_train, y_train)\n",
    "    pred = np.round(rf.predict(X_test), 2)\n",
    "    error.append(np.sqrt(mean_squared_error(y_test, pred)))"
   ]
  },
  {
   "cell_type": "code",
   "execution_count": 89,
   "metadata": {},
   "outputs": [
    {
     "data": {
      "image/png": "[encoded data removed]",
      "text/plain": [
       "<Figure size 720x504 with 1 Axes>"
      ]
     },
     "metadata": {
      "needs_background": "light"
     },
     "output_type": "display_data"
    }
   ],
   "source": [
    "plt.plot(range(1,40), error, 'r--', marker='o')\n",
    "plt.xlabel('Trees')\n",
    "plt.ylabel('RMSE')\n",
    "plt.show()"
   ]
  },
  {
   "cell_type": "code",
   "execution_count": 90,
   "metadata": {},
   "outputs": [],
   "source": [
    "error = []\n",
    "for i in range(1,40):\n",
    "    rf = RandomForestRegressor(n_jobs=-1, n_estimators=i)\n",
    "    rf.fit(X_train, y_train)\n",
    "    error.append(rf.score(X_test, y_test))"
   ]
  },
  {
   "cell_type": "code",
   "execution_count": 91,
   "metadata": {},
   "outputs": [
    {
     "data": {
      "image/png": "[encoded data removed]",
      "text/plain": [
       "<Figure size 720x504 with 1 Axes>"
      ]
     },
     "metadata": {
      "needs_background": "light"
     },
     "output_type": "display_data"
    }
   ],
   "source": [
    "plt.plot(range(1,40), error, 'r--', marker='o')\n",
    "plt.xlabel('Trees')\n",
    "plt.ylabel('R^2 Score')\n",
    "plt.show()"
   ]
  },
  {
   "cell_type": "code",
   "execution_count": 120,
   "metadata": {},
   "outputs": [],
   "source": [
    "# 7 seems to be a decent fit\n",
    "rf = RandomForestRegressor(n_jobs=-1, n_estimators=7)"
   ]
  },
  {
   "cell_type": "code",
   "execution_count": 121,
   "metadata": {},
   "outputs": [
    {
     "data": {
      "text/plain": [
       "RandomForestRegressor(bootstrap=True, criterion='mse', max_depth=None,\n",
       "           max_features='auto', max_leaf_nodes=None,\n",
       "           min_impurity_decrease=0.0, min_impurity_split=None,\n",
       "           min_samples_leaf=1, min_samples_split=2,\n",
       "           min_weight_fraction_leaf=0.0, n_estimators=7, n_jobs=-1,\n",
       "           oob_score=False, random_state=None, verbose=0, warm_start=False)"
      ]
     },
     "execution_count": 121,
     "metadata": {},
     "output_type": "execute_result"
    }
   ],
   "source": [
    "rf.fit(X_train, y_train)"
   ]
  },
  {
   "cell_type": "code",
   "execution_count": 154,
   "metadata": {},
   "outputs": [
    {
     "name": "stdout",
     "output_type": "stream",
     "text": [
      "2551.9346789527217\n",
      "0.6894204727288513\n"
     ]
    }
   ],
   "source": [
    "pred = rf.predict(X_test)\n",
    "print(np.sqrt(mean_squared_error(y_test, pred)))\n",
    "print(rf.score(X_test, y_test))"
   ]
  },
  {
   "cell_type": "code",
   "execution_count": 155,
   "metadata": {},
   "outputs": [
    {
     "name": "stdout",
     "output_type": "stream",
     "text": [
      "2560.158996774183\n",
      "0.6906706663787469\n"
     ]
    }
   ],
   "source": [
    "pred = rf.predict(Xv)\n",
    "print(np.sqrt(mean_squared_error(yv, pred)))\n",
    "print(rf.score(Xv, yv))"
   ]
  },
  {
   "cell_type": "code",
   "execution_count": 156,
   "metadata": {},
   "outputs": [],
   "source": [
    "# rmse and r^2 scores for validation and training set are similar, so we finalise this model\n",
    "final = rf.predict(X_)\n",
    "result = pd.DataFrame(final, columns=['Price'])\n",
    "result.to_csv('result.csv', index=False)"
   ]
  }
 ],
 "metadata": {
  "kernelspec": {
   "display_name": "Python 3",
   "language": "python",
   "name": "python3"
  },
  "language_info": {
   "codemirror_mode": {
    "name": "ipython",
    "version": 3
   },
   "file_extension": ".py",
   "mimetype": "text/x-python",
   "name": "python",
   "nbconvert_exporter": "python",
   "pygments_lexer": "ipython3",
   "version": "3.6.7"
  }
 },
 "nbformat": 4,
 "nbformat_minor": 2
}
